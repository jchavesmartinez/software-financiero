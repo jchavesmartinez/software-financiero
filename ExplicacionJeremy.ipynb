{
 "cells": [
  {
   "cell_type": "code",
   "execution_count": 27,
   "metadata": {},
   "outputs": [],
   "source": [
    "# prueba"
   ]
  },
  {
   "cell_type": "code",
   "execution_count": 28,
   "metadata": {},
   "outputs": [],
   "source": [
    "import PySimpleGUI as sg"
   ]
  },
  {
   "cell_type": "code",
   "execution_count": 29,
   "metadata": {},
   "outputs": [],
   "source": [
    "layout = [\n",
    "    [sg.Text(\"hola\", key=\"-TEXTO1-\"), sg.Input(\"JOSE\", key=\"-TEXTO2-\")],\n",
    "    [sg.Text(\"hola\"), sg.Button(\"Hola\", key=\"-BOTON1-\")]\n",
    "\n",
    "]\n",
    "\n",
    "window= sg.Window(\"Modulo Contable\",layout,resizable=True,icon=r'C:\\Users\\XPC\\Desktop\\software-financiero\\favicon2.ico')"
   ]
  },
  {
   "cell_type": "code",
   "execution_count": 30,
   "metadata": {},
   "outputs": [],
   "source": [
    "def hola(x):\n",
    "     print(x)"
   ]
  },
  {
   "cell_type": "code",
   "execution_count": 31,
   "metadata": {},
   "outputs": [
    {
     "name": "stdout",
     "output_type": "stream",
     "text": [
      "Hola\n",
      "Hola\n",
      "Hola\n",
      "Hola\n",
      "Hola\n",
      "Hola\n",
      "Hola\n"
     ]
    }
   ],
   "source": [
    "while True:\n",
    "    \n",
    "    event, values = window.read()\n",
    "\n",
    "    if event == sg.WIN_CLOSED:\n",
    "        break\n",
    "\n",
    "    if event == \"-BOTON1-\":\n",
    "        Jose=\"Hola\"\n",
    "        hola(Jose)\n",
    "        \n",
    "\n",
    "\n",
    "        \n",
    "\n",
    "    "
   ]
  }
 ],
 "metadata": {
  "kernelspec": {
   "display_name": "Python 3.9.12 ('base')",
   "language": "python",
   "name": "python3"
  },
  "language_info": {
   "codemirror_mode": {
    "name": "ipython",
    "version": 3
   },
   "file_extension": ".py",
   "mimetype": "text/x-python",
   "name": "python",
   "nbconvert_exporter": "python",
   "pygments_lexer": "ipython3",
   "version": "3.9.12"
  },
  "orig_nbformat": 4,
  "vscode": {
   "interpreter": {
    "hash": "5db20e6b6544bef3223c6fee36e7cf17f383763e52191370d8bdafdcda1cbf86"
   }
  }
 },
 "nbformat": 4,
 "nbformat_minor": 2
}
