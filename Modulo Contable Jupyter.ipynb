{
 "cells": [
  {
   "cell_type": "code",
   "execution_count": 2,
   "metadata": {},
   "outputs": [],
   "source": [
    "from ctypes.wintypes import SIZE\n",
    "import PySimpleGUI as sg\n",
    "import pandas as pd"
   ]
  },
  {
   "cell_type": "code",
   "execution_count": 3,
   "metadata": {},
   "outputs": [],
   "source": [
    "h=5\n",
    "menubotones= [\n",
    "\n",
    "    [sg.Button(\"Sistema de Contabilidad\", size=(30,h),pad=(0,0),expand_y=True)],\n",
    "    [sg.Button(\"Prónostico de Ventas\", size=(30,h),pad=(0,0),expand_y=True)],\n",
    "    [sg.Button(\"Manejo de Inventarios\", size=(30,h),pad=(0,0),expand_y=True)],\n",
    "    [sg.Button(\"Facturación\", size=(30,h),pad=(0,0),expand_y=True)],\n",
    "    [sg.Button(\"Manejo de Planilla\", size=(30,h),pad=(0,0),expand_y=True)],\n",
    "    [sg.Button(\"Analísis Financiero\", size=(30,h),pad=(0,0),expand_y=True)],\n",
    "    [sg.Button(\"Cuentas por pagar y cobrar\", size=(30,h),pad=(0,0),expand_y=True)],\n",
    "    [sg.Button(\"Guardar\", size=(14,h),pad=(1,0)), sg.Button(\"Salir\", size=(14,h))]\n",
    "\n",
    "]"
   ]
  },
  {
   "cell_type": "code",
   "execution_count": 4,
   "metadata": {},
   "outputs": [
    {
     "name": "stdout",
     "output_type": "stream",
     "text": [
      "               alpha-2 alpha-3  country-code     iso_3166-2   region  \\\n",
      "name                                                                   \n",
      "Afghanistan         AF     AFG             4  ISO 3166-2:AF     Asia   \n",
      "Åland Islands       AX     ALA           248  ISO 3166-2:AX   Europe   \n",
      "Albania             AL     ALB             8  ISO 3166-2:AL   Europe   \n",
      "Algeria             DZ     DZA            12  ISO 3166-2:DZ   Africa   \n",
      "American Samoa      AS     ASM            16  ISO 3166-2:AS  Oceania   \n",
      "\n",
      "                     sub-region intermediate-region  region-code  \\\n",
      "name                                                               \n",
      "Afghanistan       Southern Asia                 NaN        142.0   \n",
      "Åland Islands   Northern Europe                 NaN        150.0   \n",
      "Albania         Southern Europe                 NaN        150.0   \n",
      "Algeria         Northern Africa                 NaN          2.0   \n",
      "American Samoa        Polynesia                 NaN          9.0   \n",
      "\n",
      "                sub-region-code  intermediate-region-code  \n",
      "name                                                       \n",
      "Afghanistan                34.0                       NaN  \n",
      "Åland Islands             154.0                       NaN  \n",
      "Albania                    39.0                       NaN  \n",
      "Algeria                    15.0                       NaN  \n",
      "American Samoa             61.0                       NaN  \n"
     ]
    }
   ],
   "source": [
    "url = 'https://raw.githubusercontent.com/lukes/ISO-3166-Countries-with-Regional-Codes/master/all/all.csv'\n",
    "df = pd.read_csv(url, index_col=0)\n",
    "print(df.head(5))\n",
    "\n",
    "registrodataSA = []\n",
    "registrodataSA_heads = ['File ID', 'Type', 'Description', 'Remarks']\n",
    "registrodataSA.append(['A', 'B', 'C', 'D'])\n",
    "registrodataSA_width = [5, 8, 31, 30]\n",
    "        \n",
    "superiorA= [\n",
    "\n",
    "        [sg.Text(\"Fecha\", size=(9,1)),sg.Text(\"Asiento #\",size=(9,1)),sg.Text(\"Descripción del Asiento\")],\n",
    "        [sg.Input(\"\", size=(10,1)),sg.Input(\"\", size=(10,1)),sg.Input(\"\", size=(73,None))],\n",
    "        [sg.Text(\"Código\"),sg.Input(\"Codigo\", size=(10,None)),sg.Text(\"Monto\"),sg.Input(\"Monto\", size=(35,None)),sg.Radio('Debe', \"RADIO1\"),sg.Radio('Haber', \"RADIO1\"),sg.Button(\"Agregar Cuenta\")],\n",
    "        [sg.Button(\"Editar Entrada\", size=(41,2)),sg.Button(\"Eliminar Entrada\", size=(41,2))],\n",
    "        [sg.Table(values=registrodataSA, headings=registrodataSA_heads,max_col_width=65,col_widths=registrodataSA_width,auto_size_columns=False,justification='left',num_rows=8,background_color=\"White\", row_height=25,text_color=\"black\")],\n",
    "        [sg.Button(\"Realizar Cierre de Mes\", size=(41,2)),sg.Button(\"Registrar Asiento \", size=(41,2)),]\n",
    "\n",
    "]\n",
    "\n",
    "registrodataSB = []\n",
    "registrodataSB_heads = ['File ID', 'Type', 'Description']\n",
    "registrodataSB.append(['A', 'B', 'C'])\n",
    "registrodataSB_width = [5, 8, 45]\n",
    "\n",
    "superiorB= [\n",
    "\n",
    "    [sg.Button(\"Agregar Cuenta\", expand_x=True),sg.Button(\"Modificar Cuenta\", expand_x=True),sg.Button(\"Eliminar Cuenta\", expand_x=True)],\n",
    "    [sg.Text(\"Buscar por nombre\"),sg.Input(\"\",expand_x=True)],\n",
    "    [sg.Table(values=registrodataSB, headings=registrodataSB_heads,max_col_width=65,col_widths=registrodataSB_width,auto_size_columns=False,justification='left',num_rows=11,background_color=\"White\", row_height=25,text_color=\"black\")],\n",
    "    [sg.Button(\"Catalogo Completo\", size=(32,2)),sg.Button(\"Catalogo Simplificado\", size=(32,2)),]\n",
    "\n",
    "]"
   ]
  },
  {
   "cell_type": "code",
   "execution_count": 5,
   "metadata": {},
   "outputs": [],
   "source": [
    "registrodataIA = []\n",
    "registrodataIA_heads = ['File ID', 'Type', 'Description', 'Type2', 'Type3']\n",
    "registrodataIA.append(['A', 'B', 'C', 'D', 'E'])\n",
    "registrodataIA_width = [5, 8, 85, 8, 8]\n",
    "\n",
    "inferiorA= [\n",
    "\n",
    "    [sg.Table(values=registrodataIA, headings=registrodataIA_heads,max_col_width=65,col_widths=registrodataIA_width,auto_size_columns=False,justification='left',num_rows=9,background_color=\"White\", row_height=25,text_color=\"black\")],\n",
    "    [sg.Button(\"Editar\", size=(63,2)),sg.Button(\"Eliminar\", size=(64,2))]\n",
    "    \n",
    "]\n",
    "\n",
    "inferiorB= [\n",
    "\n",
    "    [sg.Text(\"Exportar\")],\n",
    "    [sg.Text(\"Libro Mayor\",size=(10,2)),sg.Button(\"XLS\",size=(5,2),pad=(0,0)),sg.Button(\"PDF\",size=(5,2),pad=(0,0))],\n",
    "    [sg.Text(\"Libro Diario\",size=(10,2)),sg.Button(\"XLS\",size=(5,2),pad=(0,0)),sg.Button(\"PDF\",size=(5,2),pad=(0,0))],\n",
    "    [sg.Text(\"Situación Financiera\",size=(10,2)),sg.Button(\"XLS\",size=(5,2),pad=(0,0)),sg.Button(\"PDF\",size=(5,2),pad=(0,0))],\n",
    "    [sg.Text(\"Balance General\",size=(10,2)),sg.Button(\"XLS\",size=(5,2),pad=(0,0)),sg.Button(\"PDF\",size=(5,2),pad=(0,0))],\n",
    "    [sg.Text(\"\",size=(10,6))]\n",
    "\n",
    "]\n"
   ]
  },
  {
   "cell_type": "code",
   "execution_count": 6,
   "metadata": {},
   "outputs": [],
   "source": [
    "menucompleto = [\n",
    "    [sg.Frame(\"\", [[sg.Frame(\"\", superiorA,border_width=0),sg.Frame(\"\", superiorB,border_width=0)]],border_width=0, pad=(0,0))],\n",
    "    [sg.Frame(\"\", [[sg.Frame(\"\", inferiorA,border_width=0),sg.Frame(\"\", inferiorB,border_width=0)]],border_width=0, pad=(0,0))],\n",
    "]\n",
    "\n",
    "menuprincipal = [[sg.Frame(\"\", menubotones,border_width=0)]]\n",
    "\n",
    "layout = [\n",
    "    [sg.Frame(\"\", menucompleto,border_width=0,expand_y=True),\n",
    "     sg.Frame(\"\", menuprincipal,border_width=0,expand_y=True)],]\n",
    "\n",
    "window= sg.Window(\"Modulo Contable\",layout)\n"
   ]
  },
  {
   "cell_type": "code",
   "execution_count": 7,
   "metadata": {},
   "outputs": [],
   "source": [
    "while True:\n",
    "    event, values = window.read()\n",
    "\n",
    "    if event == sg.WIN_CLOSED:\n",
    "        break\n",
    "\n",
    "window.close()"
   ]
  }
 ],
 "metadata": {
  "kernelspec": {
   "display_name": "Python 3.9.12 ('base')",
   "language": "python",
   "name": "python3"
  },
  "language_info": {
   "codemirror_mode": {
    "name": "ipython",
    "version": 3
   },
   "file_extension": ".py",
   "mimetype": "text/x-python",
   "name": "python",
   "nbconvert_exporter": "python",
   "pygments_lexer": "ipython3",
   "version": "3.9.12"
  },
  "orig_nbformat": 4,
  "vscode": {
   "interpreter": {
    "hash": "5db20e6b6544bef3223c6fee36e7cf17f383763e52191370d8bdafdcda1cbf86"
   }
  }
 },
 "nbformat": 4,
 "nbformat_minor": 2
}
