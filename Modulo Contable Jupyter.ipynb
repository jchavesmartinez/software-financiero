{
 "cells": [
  {
   "cell_type": "code",
   "execution_count": 7,
   "metadata": {},
   "outputs": [],
   "source": [
    "# Esto es para cargar todas las librerias\n",
    "\n",
    "from ctypes.wintypes import SIZE\n",
    "import PySimpleGUI as sg\n",
    "import pandas as pd\n",
    "from datetime import date"
   ]
  },
  {
   "cell_type": "code",
   "execution_count": 8,
   "metadata": {},
   "outputs": [],
   "source": [
    "# Este es el menu derecho que muestra todos los botones para los diferentes modulos\n",
    "\n",
    "h=5\n",
    "menubotones= [\n",
    "\n",
    "    [sg.Button(\"Sistema de Contabilidad\", size=(30,h),pad=(0,0),expand_y=True)],\n",
    "    [sg.Button(\"Prónostico de Ventas\", size=(30,h),pad=(0,0),expand_y=True)],\n",
    "    [sg.Button(\"Manejo de Inventarios\", size=(30,h),pad=(0,0),expand_y=True)],\n",
    "    [sg.Button(\"Facturación\", size=(30,h),pad=(0,0),expand_y=True)],\n",
    "    [sg.Button(\"Manejo de Planilla\", size=(30,h),pad=(0,0),expand_y=True)],\n",
    "    [sg.Button(\"Analísis Financiero\", size=(30,h),pad=(0,0),expand_y=True)],\n",
    "    [sg.Button(\"Cuentas por pagar y cobrar\", size=(30,h),pad=(0,0),expand_y=True)],\n",
    "    [sg.Button(\"Guardar\", size=(14,h),pad=(1,0)), sg.Button(\"Salir\", size=(14,h))]\n",
    "\n",
    "]"
   ]
  },
  {
   "cell_type": "code",
   "execution_count": 9,
   "metadata": {},
   "outputs": [],
   "source": [
    "# Esto es para generar el catalogo de cuentas y el asiento a registrar\n",
    "\n",
    "registrodataSA = []\n",
    "registrodataSA_heads = ['File ID', 'Type', 'Description', 'Remarks']\n",
    "registrodataSA.append(['A', 'B', 'C', 'D'])\n",
    "registrodataSA_width = [5, 8, 31, 30]\n",
    "        \n",
    "superiorA= [\n",
    "\n",
    "        [sg.Text(\"Fecha\", size=(9,1)),sg.Text(\"Asiento #\",size=(9,1)),sg.Text(\"Nombre de la cuenta\")],\n",
    "        [sg.Input(date.today().strftime(\"%b-%d-%Y\"), size=(12,1)),sg.Input(\"\", size=(10,1)),sg.Input(\"\", size=(71,None),key=\"-NOMBRECUENTA-\")],\n",
    "        [sg.Text(\"Código\"),sg.Input(\"\", size=(10,None),key=\"-CODIGO-\"),sg.Text(\"Monto\"),sg.Input(\"\", size=(35,None)),sg.Radio('Debe', \"RADIO1\"),sg.Radio('Haber', \"RADIO1\"),sg.Button(\"Agregar Cuenta\")],\n",
    "        [sg.Button(\"Editar Entrada\", size=(41,2)),sg.Button(\"Eliminar Entrada\", size=(41,2))],\n",
    "        [sg.Table(values=registrodataSA, headings=registrodataSA_heads,max_col_width=65,col_widths=registrodataSA_width,auto_size_columns=False,justification='left',num_rows=8,background_color=\"White\", row_height=25,text_color=\"black\")],\n",
    "        [sg.Button(\"Realizar Cierre de Mes\", size=(41,2)),sg.Button(\"Registrar Asiento \", size=(41,2)),]\n",
    "\n",
    "]\n",
    " \n",
    "\n",
    "url = 'https://raw.githubusercontent.com/jchavesmartinez/software-financiero/main/cuentas%20-%20Copy.csv'\n",
    "totalcuentas = pd.read_csv(url)\n",
    "totalcuentas=totalcuentas.drop(['Nivel', 'Primer Nivel'], axis=1)\n",
    "\n",
    "registrodataSB=totalcuentas\n",
    "registrodataSB_heads = ['Código', 'Cuenta']\n",
    "registrodataSB=registrodataSB.values.tolist()\n",
    "registrodataSB_width = [9, 49]\n",
    "\n",
    "superiorB= [\n",
    "\n",
    "    [sg.Button(\"Agregar Cuenta\", expand_x=True),sg.Button(\"Modificar Cuenta\", expand_x=True),sg.Button(\"Eliminar Cuenta\", expand_x=True)],\n",
    "    [sg.Text(\"Buscar por nombre\"),sg.Input(\"\",expand_x=True, key=\"-FILTRARCUENTAS-\", enable_events=True)],\n",
    "    [sg.Table(values=registrodataSB, headings=registrodataSB_heads,max_col_width=65,col_widths=registrodataSB_width,auto_size_columns=False,justification='left',num_rows=11,background_color=\"White\", row_height=25,text_color=\"black\", key=\"-CUENTAS-\", enable_events=True,select_mode=sg.TABLE_SELECT_MODE_BROWSE)],\n",
    "    [sg.Button(\"Catalogo Completo\", size=(32,2), key=\"-COMPLETO-\"),sg.Button(\"Catalogo Simplificado\", size=(32,2), key=\"-SIMPLIFICADO-\"),]\n",
    "\n",
    "]"
   ]
  },
  {
   "cell_type": "code",
   "execution_count": 10,
   "metadata": {},
   "outputs": [],
   "source": [
    "# Esto muestra el historico de todos los asientos registrados asi como la opcion de generar los estados financieros\n",
    "\n",
    "registrodataIA = []\n",
    "registrodataIA_heads = ['File ID', 'Type', 'Description', 'Type2', 'Type3']\n",
    "registrodataIA.append(['A', 'B', 'C', 'D', 'E'])\n",
    "registrodataIA_width = [5, 8, 85, 8, 8]\n",
    "\n",
    "inferiorA= [\n",
    "\n",
    "    [sg.Table(values=registrodataIA, headings=registrodataIA_heads,max_col_width=65,col_widths=registrodataIA_width,auto_size_columns=False,justification='left',num_rows=9,background_color=\"White\", row_height=25,text_color=\"black\")],\n",
    "    [sg.Button(\"Editar\", size=(63,2)),sg.Button(\"Eliminar\", size=(64,2))]\n",
    "    \n",
    "]\n",
    "\n",
    "inferiorB= [\n",
    "\n",
    "    [sg.Text(\"Exportar\")],\n",
    "    [sg.Text(\"Libro Mayor\",size=(10,2)),sg.Button(\"XLS\",size=(5,2),pad=(0,0)),sg.Button(\"PDF\",size=(5,2),pad=(0,0))],\n",
    "    [sg.Text(\"Libro Diario\",size=(10,2)),sg.Button(\"XLS\",size=(5,2),pad=(0,0)),sg.Button(\"PDF\",size=(5,2),pad=(0,0))],\n",
    "    [sg.Text(\"Situación Financiera\",size=(10,2)),sg.Button(\"XLS\",size=(5,2),pad=(0,0)),sg.Button(\"PDF\",size=(5,2),pad=(0,0))],\n",
    "    [sg.Text(\"Balance General\",size=(10,2)),sg.Button(\"XLS\",size=(5,2),pad=(0,0)),sg.Button(\"PDF\",size=(5,2),pad=(0,0))],\n",
    "    [sg.Text(\"\",size=(10,6))]\n",
    "\n",
    "]\n"
   ]
  },
  {
   "cell_type": "code",
   "execution_count": 11,
   "metadata": {},
   "outputs": [],
   "source": [
    "# Esto consolida todas las partes de la intefaz en un  solo layout\n",
    "\n",
    "menucompleto = [\n",
    "    [sg.Frame(\"\", [[sg.Frame(\"\", superiorA,border_width=0),sg.Frame(\"\", superiorB,border_width=0)]],border_width=0, pad=(0,0))],\n",
    "    [sg.Frame(\"\", [[sg.Frame(\"\", inferiorA,border_width=0),sg.Frame(\"\", inferiorB,border_width=0)]],border_width=0, pad=(0,0))],\n",
    "]\n",
    "\n",
    "menuprincipal = [[sg.Frame(\"\", menubotones,border_width=0)]]\n",
    "\n",
    "layout = [\n",
    "    [sg.Frame(\"\", menucompleto,border_width=0,expand_y=True),\n",
    "     sg.Frame(\"\", menuprincipal,border_width=0,expand_y=True)],]\n",
    "\n",
    "window= sg.Window(\"Modulo Contable\",layout)\n"
   ]
  },
  {
   "cell_type": "code",
   "execution_count": 1,
   "metadata": {},
   "outputs": [
    {
     "name": "stdout",
     "output_type": "stream",
     "text": [
      "The Zen of Python, by Tim Peters\n",
      "\n",
      "Beautiful is better than ugly.\n",
      "Explicit is better than implicit.\n",
      "Simple is better than complex.\n",
      "Complex is better than complicated.\n",
      "Flat is better than nested.\n",
      "Sparse is better than dense.\n",
      "Readability counts.\n",
      "Special cases aren't special enough to break the rules.\n",
      "Although practicality beats purity.\n",
      "Errors should never pass silently.\n",
      "Unless explicitly silenced.\n",
      "In the face of ambiguity, refuse the temptation to guess.\n",
      "There should be one-- and preferably only one --obvious way to do it.\n",
      "Although that way may not be obvious at first unless you're Dutch.\n",
      "Now is better than never.\n",
      "Although never is often better than *right* now.\n",
      "If the implementation is hard to explain, it's a bad idea.\n",
      "If the implementation is easy to explain, it may be a good idea.\n",
      "Namespaces are one honking great idea -- let's do more of those!\n"
     ]
    },
    {
     "ename": "NameError",
     "evalue": "name 'window' is not defined",
     "output_type": "error",
     "traceback": [
      "\u001b[1;31m---------------------------------------------------------------------------\u001b[0m",
      "\u001b[1;31mNameError\u001b[0m                                 Traceback (most recent call last)",
      "\u001b[1;32mc:\\Users\\XPC\\Desktop\\Software Contable\\software-financiero\\Modulo Contable Jupyter.ipynb Cell 6\u001b[0m in \u001b[0;36m<cell line: 7>\u001b[1;34m()\u001b[0m\n\u001b[0;32m      <a href='vscode-notebook-cell:/c%3A/Users/XPC/Desktop/Software%20Contable/software-financiero/Modulo%20Contable%20Jupyter.ipynb#W5sZmlsZQ%3D%3D?line=2'>3</a>\u001b[0m \u001b[39mfrom\u001b[39;00m \u001b[39mthis\u001b[39;00m \u001b[39mimport\u001b[39;00m d\n\u001b[0;32m      <a href='vscode-notebook-cell:/c%3A/Users/XPC/Desktop/Software%20Contable/software-financiero/Modulo%20Contable%20Jupyter.ipynb#W5sZmlsZQ%3D%3D?line=5'>6</a>\u001b[0m \u001b[39mwhile\u001b[39;00m \u001b[39mTrue\u001b[39;00m:\n\u001b[1;32m----> <a href='vscode-notebook-cell:/c%3A/Users/XPC/Desktop/Software%20Contable/software-financiero/Modulo%20Contable%20Jupyter.ipynb#W5sZmlsZQ%3D%3D?line=6'>7</a>\u001b[0m     event, values \u001b[39m=\u001b[39m window\u001b[39m.\u001b[39mread()\n\u001b[0;32m      <a href='vscode-notebook-cell:/c%3A/Users/XPC/Desktop/Software%20Contable/software-financiero/Modulo%20Contable%20Jupyter.ipynb#W5sZmlsZQ%3D%3D?line=8'>9</a>\u001b[0m     \u001b[39mif\u001b[39;00m event \u001b[39m==\u001b[39m sg\u001b[39m.\u001b[39mWIN_CLOSED:\n\u001b[0;32m     <a href='vscode-notebook-cell:/c%3A/Users/XPC/Desktop/Software%20Contable/software-financiero/Modulo%20Contable%20Jupyter.ipynb#W5sZmlsZQ%3D%3D?line=9'>10</a>\u001b[0m         \u001b[39mbreak\u001b[39;00m\n",
      "\u001b[1;31mNameError\u001b[0m: name 'window' is not defined"
     ]
    }
   ],
   "source": [
    "# Esto es el codigo para ejecutar la interfaz\n",
    "\n",
    "from this import d\n",
    "\n",
    "\n",
    "while True:\n",
    "    event, values = window.read()\n",
    "\n",
    "    if event == sg.WIN_CLOSED:\n",
    "        break\n",
    "    \n",
    "    if event == '-CUENTAS-'and values['-CUENTAS-']:\n",
    "        data_selected = [registrodataSB[row] for row in values[event]]\n",
    "        window['-CODIGO-'].update(data_selected[0][0])\n",
    "    \n",
    "        window['-NOMBRECUENTA-'].update(data_selected[0][1])\n",
    "    if event == '-SIMPLIFICADO-':\n",
    "        window['-FILTRARCUENTAS-'].update(\"\")\n",
    "        cuentasimplificado=totalcuentas.loc[(totalcuentas['Código'] <= 99999)].values.tolist()\n",
    "        window['-CUENTAS-'].update(cuentasimplificado)\n",
    "    if event == '-COMPLETO-':\n",
    "        cuentatotal=totalcuentas.loc[(totalcuentas['Código'] <= 9999999999)].values.tolist()\n",
    "        window['-CUENTAS-'].update(cuentatotal)\n",
    "    if event == '-FILTRARCUENTAS-' and values['-FILTRARCUENTAS-']:\n",
    "        filtrarcuentas=totalcuentas.applymap(str)\n",
    "        filtro=filtrarcuentas[filtrarcuentas.stack().str.contains(values['-FILTRARCUENTAS-']).any(level=0)].values.tolist()\n",
    "        window['-CUENTAS-'].update(filtro)\n",
    "        \n",
    "window.close()\n",
    "\n",
    "prueba"
   ]
  }
 ],
 "metadata": {
  "kernelspec": {
   "display_name": "Python 3.9.12 ('base')",
   "language": "python",
   "name": "python3"
  },
  "language_info": {
   "codemirror_mode": {
    "name": "ipython",
    "version": 3
   },
   "file_extension": ".py",
   "mimetype": "text/x-python",
   "name": "python",
   "nbconvert_exporter": "python",
   "pygments_lexer": "ipython3",
   "version": "3.9.12"
  },
  "orig_nbformat": 4,
  "vscode": {
   "interpreter": {
    "hash": "5db20e6b6544bef3223c6fee36e7cf17f383763e52191370d8bdafdcda1cbf86"
   }
  }
 },
 "nbformat": 4,
 "nbformat_minor": 2
}
