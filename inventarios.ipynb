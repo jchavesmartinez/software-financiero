{
 "cells": [
  {
   "cell_type": "code",
   "execution_count": 15,
   "metadata": {},
   "outputs": [],
   "source": [
    "# Esto es para cargar todas las librerias\n",
    "\n",
    "from ctypes.wintypes import SIZE\n",
    "import PySimpleGUI as sg\n",
    "import pandas as pd\n",
    "from datetime import date\n",
    "from datetime import datetime\n",
    "from win32com import client\n",
    "\n",
    "import openpyxl\n",
    "from openpyxl import load_workbook\n",
    "from openpyxl.styles import Font\n",
    "from openpyxl.chart import BarChart, Reference\n",
    "import string\n",
    "\n",
    "from openpyxl.styles import PatternFill, GradientFill\n",
    "from openpyxl.utils import get_column_letter\n",
    "\n",
    "from openpyxl import Workbook\n",
    "from openpyxl.styles import Border, Side\n",
    "\n",
    "from openpyxl.styles import Alignment\n",
    "import numpy as np\n",
    "import sys"
   ]
  },
  {
   "cell_type": "code",
   "execution_count": 16,
   "metadata": {},
   "outputs": [],
   "source": [
    "# Este es el menu derecho que muestra todos los botones para los diferentes modulos\n",
    "\n",
    "h=5\n",
    "menubotones= [\n",
    "\n",
    "    [sg.Button(\"Sistema de Contabilidad\", size=(30,h),pad=(0,0),expand_y=True)],\n",
    "    [sg.Button(\"Prónostico de Ventas\", size=(30,h),pad=(0,0),expand_y=True, disabled=True)],\n",
    "    [sg.Button(\"Manejo de Inventarios\", size=(30,h),pad=(0,0),expand_y=True, disabled=True)],\n",
    "    [sg.Button(\"Facturación\", size=(30,h),pad=(0,0),expand_y=True, disabled=True)],\n",
    "    [sg.Button(\"Manejo de Planilla\", size=(30,h),pad=(0,0),expand_y=True, disabled=True)],\n",
    "    [sg.Button(\"Analísis Financiero\", size=(30,h),pad=(0,0),expand_y=True, disabled=True)],\n",
    "    [sg.Button(\"Cuentas por pagar y cobrar\", size=(30,h),pad=(0,0),expand_y=True, disabled=True)],\n",
    "    [sg.Button(\"Ajustes\", size=(14,h),pad=(1,0)), sg.Button(\"Salir\", size=(14,h))]\n",
    "\n",
    "]"
   ]
  },
  {
   "cell_type": "code",
   "execution_count": 17,
   "metadata": {},
   "outputs": [],
   "source": [
    "# Esto es para generar una parte del layout\n",
    "\n",
    "registrodataSA = []\n",
    "registrodataSA_heads = ['# Asiento','Fecha','Código', 'Cuenta', 'Debe', 'Haber']\n",
    "#registrodataSA.append(['A', 'B', 'C', 'D'])\n",
    "registrodataSA_width = [0,0,10, 44, 10, 10]\n",
    "        \n",
    "superiorA= [\n",
    "\n",
    "        [sg.Text(\"Fecha\", size=(9,1)),sg.Text(\"Asiento #\",size=(9,1)),sg.Text(\"Nombre de la cuenta\")],\n",
    "        [sg.Input(date.today().strftime(\"%b-%d-%Y\"), size=(12,1), key=\"-FECHA-\", disabled=True),sg.Input(\"\", size=(10,1),key=\"-#ASIENTO-\", disabled=True),sg.Input(\"\", size=(71,None),key=\"-NOMBRECUENTA-\", disabled=True)],\n",
    "        [sg.Text(\"Código\"),sg.Input(\"\", size=(10,None),key=\"-CODIGO-\", disabled=True),sg.Text(\"Monto\"),sg.Input(\"\", size=(35,None), key=\"-MONTO-\"),sg.Radio('Debe', \"RADIO1\",key=\"-DEBE-\", default=True),sg.Radio('Haber', \"RADIO1\",key=\"-HABER-\"),sg.Button(\"Agregar Cuenta\", key=\"-REGISTRARLINEA-\")],\n",
    "        [sg.Button(\"Editar Entrada\", size=(41,2)),sg.Button(\"Eliminar Entrada\", size=(41,2))],\n",
    "        [sg.Table(values=registrodataSA, headings=registrodataSA_heads,max_col_width=65,col_widths=registrodataSA_width,auto_size_columns=False,justification='left',num_rows=7,background_color=\"White\", row_height=24,text_color=\"black\", key=\"-ASIENTO-\")],\n",
    "        [sg.Button(\"Registrar Asiento \", size=(84,2), key=\"-REGISTRARASIENTO-\"),]\n",
    "\n",
    "]\n",
    " \n",
    "\n",
    "url = 'https://raw.githubusercontent.com/jchavesmartinez/software-financiero/main/cuentas%20-%20Copy.csv'\n",
    "totalcuentas = pd.read_csv(url)\n",
    "totalcuentas=totalcuentas.drop(['Nivel', 'Primer Nivel'], axis=1)\n",
    "\n",
    "registrodataSB=totalcuentas\n",
    "registrodataSB_heads = ['Código', 'Cuenta']\n",
    "registrodataSB=registrodataSB.values.tolist()\n",
    "registrodataSB_width = [9, 49]\n",
    "\n",
    "superiorB= [\n",
    "\n",
    "    [sg.Button(\"Agregar Cuenta\", expand_x=True, visible=False),sg.Button(\"Modificar Cuenta\", expand_x=True, visible=False),sg.Button(\"Eliminar Cuenta\", expand_x=True, visible=False)],\n",
    "    [sg.Text(\"Buscar por nombre\"),sg.Input(\"\",expand_x=True, key=\"-FILTRARCUENTAS-\", enable_events=True)],\n",
    "    [sg.Table(values=registrodataSB, headings=registrodataSB_heads,max_col_width=65,col_widths=registrodataSB_width,auto_size_columns=False,justification='left',num_rows=11,background_color=\"White\", row_height=25,text_color=\"black\", key=\"-CUENTAS-\", enable_events=True,select_mode=sg.TABLE_SELECT_MODE_BROWSE)],\n",
    "    [sg.Button(\"Catalogo Completo\", size=(32,2), key=\"-COMPLETO-\"),sg.Button(\"Catalogo Simplificado\", size=(32,2), key=\"-SIMPLIFICADO-\"),]\n",
    "\n",
    "]"
   ]
  },
  {
   "cell_type": "code",
   "execution_count": 18,
   "metadata": {},
   "outputs": [],
   "source": [
    "# Esto consolida todas las partes de la intefaz en un  solo layout\n",
    "\n",
    "menucompleto = [\n",
    "    [sg.Frame(\"\", [[sg.Frame(\"\", superiorA,border_width=0),sg.Frame(\"\", superiorB,border_width=0)]],border_width=0, pad=(0,0))]\n",
    "]\n",
    "\n",
    "menuprincipal = [[sg.Frame(\"\", menubotones,border_width=0)]]\n",
    "\n",
    "layout = [\n",
    "    [sg.Frame(\"\", menucompleto,border_width=0,expand_y=True),\n",
    "     sg.Frame(\"\", menuprincipal,border_width=0,expand_y=True)],]\n",
    "\n",
    "window= sg.Window(\"Modulo Contable\",layout,finalize=True)"
   ]
  },
  {
   "cell_type": "code",
   "execution_count": 19,
   "metadata": {},
   "outputs": [],
   "source": [
    "# Esto es el codigo para ejecutar la interfaz\n",
    "\n",
    "\n",
    "while True:\n",
    "    \n",
    "    event, values = window.read()\n",
    "\n",
    "    \n",
    "    if event == sg.WIN_CLOSED:\n",
    "        break\n",
    "    \n",
    "\n",
    "window.close()\n",
    "\n",
    "\n",
    "\n"
   ]
  }
 ],
 "metadata": {
  "kernelspec": {
   "display_name": "Python 3.9.12 ('base')",
   "language": "python",
   "name": "python3"
  },
  "language_info": {
   "codemirror_mode": {
    "name": "ipython",
    "version": 3
   },
   "file_extension": ".py",
   "mimetype": "text/x-python",
   "name": "python",
   "nbconvert_exporter": "python",
   "pygments_lexer": "ipython3",
   "version": "3.9.12"
  },
  "orig_nbformat": 4,
  "vscode": {
   "interpreter": {
    "hash": "5db20e6b6544bef3223c6fee36e7cf17f383763e52191370d8bdafdcda1cbf86"
   }
  }
 },
 "nbformat": 4,
 "nbformat_minor": 2
}
