{
 "cells": [
  {
   "cell_type": "code",
   "execution_count": 4,
   "metadata": {},
   "outputs": [],
   "source": [
    "# Esto es para cargar todas las librerias\n",
    "\n",
    "from ctypes.wintypes import SIZE\n",
    "import PySimpleGUI as sg\n",
    "import pandas as pd\n",
    "from datetime import date\n",
    "from datetime import datetime\n",
    "from win32com import client\n",
    "\n",
    "import openpyxl\n",
    "from openpyxl import load_workbook\n",
    "from openpyxl.styles import Font\n",
    "from openpyxl.chart import BarChart, Reference\n",
    "import string\n",
    "\n",
    "from openpyxl.styles import PatternFill, GradientFill\n",
    "from openpyxl.utils import get_column_letter\n",
    "\n",
    "from openpyxl import Workbook\n",
    "from openpyxl.styles import Border, Side\n",
    "\n",
    "from openpyxl.styles import Alignment\n",
    "import numpy as np\n",
    "import sys"
   ]
  },
  {
   "cell_type": "code",
   "execution_count": 5,
   "metadata": {},
   "outputs": [],
   "source": [
    "h=5\n",
    "menubotones= [\n",
    "\n",
    "    [sg.Button(\"Sistema de Contabilidad\", size=(30,h),pad=(0,0),expand_y=True)],\n",
    "    [sg.Button(\"Prónostico de Ventas\", size=(30,h),pad=(0,0),expand_y=True, disabled=True)],\n",
    "    [sg.Button(\"Manejo de Inventarios\", size=(30,h),pad=(0,0),expand_y=True, disabled=True)],\n",
    "    [sg.Button(\"Facturación\", size=(30,h),pad=(0,0),expand_y=True, disabled=True)],\n",
    "    [sg.Button(\"Manejo de Planilla\", size=(30,h),pad=(0,0),expand_y=True, disabled=True)],\n",
    "    [sg.Button(\"Analísis Financiero\", size=(30,h),pad=(0,0),expand_y=True, disabled=True)],\n",
    "    [sg.Button(\"Cuentas por pagar y cobrar\", size=(30,h),pad=(0,0),expand_y=True, disabled=True)],\n",
    "    [sg.Button(\"Ajustes\", size=(14,h),pad=(1,0)), sg.Button(\"Salir\", size=(14,h))]\n",
    "\n",
    "]"
   ]
  },
  {
   "cell_type": "code",
   "execution_count": 6,
   "metadata": {},
   "outputs": [],
   "source": [
    "\n",
    "layout = [\n",
    "    [menubotones]\n",
    "]\n",
    "\n",
    "window= sg.Window(\"Modulo Contable\",layout,finalize=True)"
   ]
  },
  {
   "cell_type": "code",
   "execution_count": 7,
   "metadata": {},
   "outputs": [],
   "source": [
    "# Esto es el codigo para ejecutar la interfaz\n",
    "\n",
    "\n",
    "while True:\n",
    "    \n",
    "    event, values = window.read()\n",
    "\n",
    "    \n",
    "    if event == sg.WIN_CLOSED:\n",
    "        break\n",
    "    \n",
    "\n",
    "window.close()\n",
    "\n",
    "\n",
    "\n"
   ]
  }
 ],
 "metadata": {
  "kernelspec": {
   "display_name": "Python 3.9.12 ('base')",
   "language": "python",
   "name": "python3"
  },
  "language_info": {
   "codemirror_mode": {
    "name": "ipython",
    "version": 3
   },
   "file_extension": ".py",
   "mimetype": "text/x-python",
   "name": "python",
   "nbconvert_exporter": "python",
   "pygments_lexer": "ipython3",
   "version": "3.9.12"
  },
  "orig_nbformat": 4,
  "vscode": {
   "interpreter": {
    "hash": "5db20e6b6544bef3223c6fee36e7cf17f383763e52191370d8bdafdcda1cbf86"
   }
  }
 },
 "nbformat": 4,
 "nbformat_minor": 2
}
